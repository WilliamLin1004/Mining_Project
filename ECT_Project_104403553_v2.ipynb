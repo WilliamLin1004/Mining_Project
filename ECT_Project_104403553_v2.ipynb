{
  "nbformat": 4,
  "nbformat_minor": 0,
  "metadata": {
    "colab": {
      "name": "ECT_Project_104403553_v1.ipynb",
      "version": "0.3.2",
      "provenance": [],
      "collapsed_sections": [],
      "toc_visible": true
    },
    "kernelspec": {
      "name": "python3",
      "display_name": "Python 3"
    },
    "accelerator": "GPU"
  },
  "cells": [
    {
      "cell_type": "code",
      "metadata": {
        "id": "23mQYYmAdtV2",
        "colab_type": "code",
        "colab": {}
      },
      "source": [
        "import pandas as pd\n",
        "from sklearn import metrics"
      ],
      "execution_count": 0,
      "outputs": []
    },
    {
      "cell_type": "code",
      "metadata": {
        "id": "C7GZFgRpfLGv",
        "colab_type": "code",
        "colab": {}
      },
      "source": [
        "df =pd.read_csv(\"104403553_data_new.csv\")"
      ],
      "execution_count": 0,
      "outputs": []
    },
    {
      "cell_type": "markdown",
      "metadata": {
        "id": "hmcJWH8YP0E1",
        "colab_type": "text"
      },
      "source": [
        "## 前處理"
      ]
    },
    {
      "cell_type": "markdown",
      "metadata": {
        "id": "Hb1qEmeOPtDq",
        "colab_type": "text"
      },
      "source": [
        "### 做attribute list之後比較好叫\n",
        "1. crossing_gk_list 做平均用的\n",
        "2. not_gk_list是所有跟守門員無關的數據\n",
        "3. gk_attribute_list是跟守門有關的屬性"
      ]
    },
    {
      "cell_type": "code",
      "metadata": {
        "id": "Y0qzY1lwiafS",
        "colab_type": "code",
        "colab": {}
      },
      "source": [
        "crossing_gk_list = ['Crossing','Finishing','HeadingAccuracy','ShortPassing','Volleys','Dribbling','Curve','FKAccuracy','LongPassing','BallControl','Acceleration','SprintSpeed','Agility','Reactions','Balance','ShotPower','Jumping','Stamina','Strength','LongShots','Aggression','Interceptions','Positioning','Vision','Penalties','Composure','Marking','StandingTackle','SlidingTackle','GKDiving','GKHandling','GKKicking','GKPositioning','GKReflexes'] \n",
        "not_gk_attribute_list = ['Crossing','Finishing','HeadingAccuracy','ShortPassing','Volleys','Dribbling','Curve','FKAccuracy','LongPassing','BallControl','Acceleration','SprintSpeed','Agility','Reactions','Balance','ShotPower','Jumping','Stamina','Strength','LongShots','Aggression','Interceptions','Positioning','Vision','Penalties','Composure','Marking','StandingTackle','SlidingTackle'] \n",
        "gk_attribute_list = ['GKDiving','GKHandling','GKKicking','GKPositioning','GKReflexes'] "
      ],
      "execution_count": 0,
      "outputs": []
    },
    {
      "cell_type": "markdown",
      "metadata": {
        "id": "T_DWYxhEvCsq",
        "colab_type": "text"
      },
      "source": [
        "## 把34個屬性加在一起得到一個sum欄位\n",
        "另外兩個欄位是為了做加分題弄的，分別在之後的x,y軸出現"
      ]
    },
    {
      "cell_type": "code",
      "metadata": {
        "id": "VDQznZqufRCP",
        "colab_type": "code",
        "colab": {}
      },
      "source": [
        "df['sum'] = df[crossing_gk_list].mean(axis=1)\n",
        "df['not_gk_mean'] = df[not_gk_attribute_list].mean(axis=1)\n",
        "df['gk_mean'] = df[gk_attribute_list].mean(axis=1)\n",
        "plot_list = ['Crossing','Finishing','HeadingAccuracy','ShortPassing','Volleys','Dribbling','Curve','FKAccuracy','LongPassing','BallControl','Acceleration','SprintSpeed','Agility','Reactions','Balance','ShotPower','Jumping','Stamina','Strength','LongShots','Aggression','Interceptions','Positioning','Vision','Penalties','Composure','Marking','StandingTackle','SlidingTackle','GKDiving','GKHandling','GKKicking','GKPositioning','GKReflexes','not_gk_mean','gk_mean'] "
      ],
      "execution_count": 0,
      "outputs": []
    },
    {
      "cell_type": "markdown",
      "metadata": {
        "id": "5gyqKEVfvJ-S",
        "colab_type": "text"
      },
      "source": [
        "## 把大家的sum 欄位做平均\n",
        "只要這位球員的sum值高於平均，他就是above_average player\n",
        "<br>在這邊使用apply來完成"
      ]
    },
    {
      "cell_type": "code",
      "metadata": {
        "id": "XnT2iaM5fbyz",
        "colab_type": "code",
        "colab": {}
      },
      "source": [
        "rating_avg = df['sum'].mean()\n",
        "df['avg'] = df['sum'].apply(lambda x : 'Above-Average Players' if x >= rating_avg else 'Below-Average Players')"
      ],
      "execution_count": 0,
      "outputs": []
    },
    {
      "cell_type": "code",
      "metadata": {
        "id": "tFJxqBtpoGEy",
        "colab_type": "code",
        "colab": {}
      },
      "source": [
        "x = df.loc[:,plot_list]\n",
        "y = df.loc[:,['avg']]"
      ],
      "execution_count": 0,
      "outputs": []
    },
    {
      "cell_type": "markdown",
      "metadata": {
        "id": "0bbZjHFevbUK",
        "colab_type": "text"
      },
      "source": [
        "## 簡單的transform"
      ]
    },
    {
      "cell_type": "code",
      "metadata": {
        "id": "sVIFyUPAoHB2",
        "colab_type": "code",
        "colab": {}
      },
      "source": [
        "from sklearn import preprocessing\n",
        "\n",
        "le = preprocessing.LabelEncoder()\n",
        "y_class_label=le.fit_transform(y['avg'])\n"
      ],
      "execution_count": 0,
      "outputs": []
    },
    {
      "cell_type": "markdown",
      "metadata": {
        "id": "oq6ymuDAeQPi",
        "colab_type": "text"
      },
      "source": [
        "## 看看資料分布\n",
        "因為後面繪圖都是在守門員屬性跟不是守門員屬性當x,y軸，所以先來看看真正的分布是怎樣\n"
      ]
    },
    {
      "cell_type": "code",
      "metadata": {
        "id": "whKRQ018ePj3",
        "colab_type": "code",
        "outputId": "9a81188f-fd70-447b-d018-315ea7fc0069",
        "colab": {
          "base_uri": "https://localhost:8080/",
          "height": 296
        }
      },
      "source": [
        "import matplotlib\n",
        "import matplotlib.pyplot as plt\n",
        "import seaborn as sns\n",
        "\n",
        "title = plt.title('Below/Above Average Distribution')\n",
        "plt.setp(title, color='w')\n",
        "#matplotlib.rc('axes',edgecolor='w')\n",
        "plt.tick_params(axis='x', colors='white')\n",
        "plt.tick_params(axis='y', colors='white')\n",
        "#plt.ylabel.label.set_color(\"red\")\n",
        "label_x = plt.xlabel(\"Non GK attributes\")\n",
        "label_x.set_color(\"white\")\n",
        "\n",
        "label_y = plt.ylabel(\"GK attributes\")\n",
        "label_y.set_color(\"white\")\n",
        "sns.scatterplot(x = df['not_gk_mean'],y = df['gk_mean'], hue = y['avg'])\n",
        "#scatter = plt.scatter(df['not_gk_mean'],df['gk_mean'], c = y_class_label, alpha = 0.5, edgecolor= 'w')\n",
        "#plt.legend(['ac' , 'ca'])\n",
        "\n",
        "plt.show()"
      ],
      "execution_count": 8,
      "outputs": [
        {
          "output_type": "display_data",
          "data": {
            "image/png": "[encoded data removed]",
            "text/plain": [
              "<Figure size 432x288 with 1 Axes>"
            ]
          },
          "metadata": {
            "tags": []
          }
        }
      ]
    },
    {
      "cell_type": "markdown",
      "metadata": {
        "id": "zt2wxar_ve_t",
        "colab_type": "text"
      },
      "source": [
        "## 切分資料集"
      ]
    },
    {
      "cell_type": "code",
      "metadata": {
        "id": "ERBE4KuzzeF_",
        "colab_type": "code",
        "colab": {}
      },
      "source": [
        "from sklearn.model_selection import train_test_split\n",
        "x_train, x_test, y_train, y_test = train_test_split(x, y_class_label, test_size=0.33)"
      ],
      "execution_count": 0,
      "outputs": []
    },
    {
      "cell_type": "markdown",
      "metadata": {
        "id": "mHb49qg4R7vg",
        "colab_type": "text"
      },
      "source": [
        "為了之後畫圖看的出來是哪幾個店分類措"
      ]
    },
    {
      "cell_type": "code",
      "metadata": {
        "id": "SF16wCJlkGdw",
        "colab_type": "code",
        "colab": {}
      },
      "source": [
        "def confusion_classifier(ground, predicted):\n",
        "  if ground == 0 and predicted == 0:\n",
        "    value = 'Predicted Correctly'\n",
        "  elif ground == 0 and predicted == 1:\n",
        "    value = 'Wrong'\n",
        "  elif ground == 1 and predicted == 0:\n",
        "    value = 'Wrong'\n",
        "  elif ground == 1 and predicted == 1:\n",
        "    value = 'Predicted Correctly'\n",
        "  \n",
        "  return value\n",
        "    "
      ],
      "execution_count": 0,
      "outputs": []
    },
    {
      "cell_type": "markdown",
      "metadata": {
        "id": "JIG0bl_O9k3y",
        "colab_type": "text"
      },
      "source": [
        "## Naive Bayes\n",
        "如果甚麼都不做的naive bayes會是0.85<br>\n",
        "所以我把拿來train 跟 test的 attribute做稍為的修正，\n",
        "把守門員有關的數據都砍掉。\n",
        "之所以知道這麼做原因是因為<br>\n",
        "如果回朔資料集，可以清楚看見，即使最好的守門員，也是below_average球員。其實是因為守門員的其他數據都很爛。"
      ]
    },
    {
      "cell_type": "code",
      "metadata": {
        "id": "NK-TdS9x7Lu1",
        "colab_type": "code",
        "colab": {}
      },
      "source": [
        "nb_x_train = x_train.loc[:,not_gk_attribute_list]\n",
        "nb_x_test = x_test.loc[:,not_gk_attribute_list]"
      ],
      "execution_count": 0,
      "outputs": []
    },
    {
      "cell_type": "code",
      "metadata": {
        "id": "NW9JU1cKzq6L",
        "colab_type": "code",
        "outputId": "71748adc-6421-4685-9d79-78dca173df6f",
        "colab": {
          "base_uri": "https://localhost:8080/",
          "height": 221
        }
      },
      "source": [
        "from sklearn.naive_bayes import GaussianNB\n",
        "nb_model = GaussianNB()\n",
        "nb_model.fit(nb_x_train, y_train)\n",
        "nb_predicted = nb_model.predict(nb_x_test)\n",
        "print(\"Accuracy\")\n",
        "print(metrics.accuracy_score(y_test, nb_predicted))\n",
        "print(\"Naive Bayes Classification Report:\")\n",
        "print(metrics.classification_report(y_test, nb_predicted))"
      ],
      "execution_count": 12,
      "outputs": [
        {
          "output_type": "stream",
          "text": [
            "Accuracy\n",
            "0.9117303520774237\n",
            "Naive Bayes Classification Report:\n",
            "              precision    recall  f1-score   support\n",
            "\n",
            "           0       0.89      0.97      0.93      3381\n",
            "           1       0.95      0.84      0.89      2612\n",
            "\n",
            "    accuracy                           0.91      5993\n",
            "   macro avg       0.92      0.90      0.91      5993\n",
            "weighted avg       0.92      0.91      0.91      5993\n",
            "\n"
          ],
          "name": "stdout"
        }
      ]
    },
    {
      "cell_type": "code",
      "metadata": {
        "id": "GvG0Y4vX0OHh",
        "colab_type": "code",
        "outputId": "f1dba6a8-0c05-4eaf-94cc-9b5f4f40897d",
        "colab": {
          "base_uri": "https://localhost:8080/",
          "height": 159
        }
      },
      "source": [
        "print(\"Naive Bayes Confusion Matrix\")\n",
        "pd.crosstab(y_test, nb_predicted, rownames=[\"Actual\"], colnames=[\"Predicted\"])"
      ],
      "execution_count": 13,
      "outputs": [
        {
          "output_type": "stream",
          "text": [
            "Naive Bayes Confusion Matrix\n"
          ],
          "name": "stdout"
        },
        {
          "output_type": "execute_result",
          "data": {
            "text/html": [
              "<div>\n",
              "<style scoped>\n",
              "    .dataframe tbody tr th:only-of-type {\n",
              "        vertical-align: middle;\n",
              "    }\n",
              "\n",
              "    .dataframe tbody tr th {\n",
              "        vertical-align: top;\n",
              "    }\n",
              "\n",
              "    .dataframe thead th {\n",
              "        text-align: right;\n",
              "    }\n",
              "</style>\n",
              "<table border=\"1\" class=\"dataframe\">\n",
              "  <thead>\n",
              "    <tr style=\"text-align: right;\">\n",
              "      <th>Predicted</th>\n",
              "      <th>0</th>\n",
              "      <th>1</th>\n",
              "    </tr>\n",
              "    <tr>\n",
              "      <th>Actual</th>\n",
              "      <th></th>\n",
              "      <th></th>\n",
              "    </tr>\n",
              "  </thead>\n",
              "  <tbody>\n",
              "    <tr>\n",
              "      <th>0</th>\n",
              "      <td>3273</td>\n",
              "      <td>108</td>\n",
              "    </tr>\n",
              "    <tr>\n",
              "      <th>1</th>\n",
              "      <td>421</td>\n",
              "      <td>2191</td>\n",
              "    </tr>\n",
              "  </tbody>\n",
              "</table>\n",
              "</div>"
            ],
            "text/plain": [
              "Predicted     0     1\n",
              "Actual               \n",
              "0          3273   108\n",
              "1           421  2191"
            ]
          },
          "metadata": {
            "tags": []
          },
          "execution_count": 13
        }
      ]
    },
    {
      "cell_type": "markdown",
      "metadata": {
        "id": "OK-cTtK5TCGX",
        "colab_type": "text"
      },
      "source": [
        "## 為了搞清楚哪幾點是有問題的做的"
      ]
    },
    {
      "cell_type": "code",
      "metadata": {
        "id": "Yt4MOcjKiiCg",
        "colab_type": "code",
        "colab": {}
      },
      "source": [
        "df_nb = pd.DataFrame()\n",
        "df_nb['groundtruth'] = y_test\n",
        "df_nb['predicted'] = nb_predicted\n",
        "df_nb['state'] = df_nb.apply(lambda x: confusion_classifier(x['groundtruth'], x['predicted']), axis=1)"
      ],
      "execution_count": 0,
      "outputs": []
    },
    {
      "cell_type": "code",
      "metadata": {
        "id": "5WElWnQTloiX",
        "colab_type": "code",
        "outputId": "0250107f-6a8a-4f60-a56e-88a61de4e8e2",
        "colab": {
          "base_uri": "https://localhost:8080/",
          "height": 296
        }
      },
      "source": [
        "import matplotlib\n",
        "import matplotlib.pyplot as plt2\n",
        "\n",
        "title = plt2.title('Below/Above Average Distribution Naive Bayes')\n",
        "plt2.setp(title, color='w')\n",
        "#matplotlib.rc('axes',edgecolor='w')\n",
        "plt2.tick_params(axis='x', colors='white')\n",
        "plt2.tick_params(axis='y', colors='white')\n",
        "#plt.ylabel.label.set_color(\"red\")\n",
        "label_x = plt2.xlabel(\"Non GK attributes\")\n",
        "label_x.set_color(\"white\")\n",
        "\n",
        "label_y = plt2.ylabel(\"GK attributes\")\n",
        "label_y.set_color(\"white\")\n",
        "sns.scatterplot(x = x_test['not_gk_mean'],y = x_test['gk_mean'], hue = df_nb['state'])\n",
        "#plt2.scatter(x_test['not_gk_mean'],x_test['gk_mean'], c = df_nb['state'], alpha = 0.5, edgecolor= 'w')\n",
        "\n",
        "plt2.legend()\n",
        "plt2.show()"
      ],
      "execution_count": 15,
      "outputs": [
        {
          "output_type": "display_data",
          "data": {
            "image/png": "[encoded data removed]",
            "text/plain": [
              "<Figure size 432x288 with 1 Axes>"
            ]
          },
          "metadata": {
            "tags": []
          }
        }
      ]
    },
    {
      "cell_type": "markdown",
      "metadata": {
        "id": "QcQrUrjR-Isq",
        "colab_type": "text"
      },
      "source": [
        "## Decision Tree\n",
        "decision tree 不用再特殊處理就可以找到0.9以上了<br>\n",
        "深度、葉子數量做微調，就可以了。<br>\n",
        "這邊我用entropy 來做information gain，深度12<br>\n",
        "大概把深度從10-20都試過一遍"
      ]
    },
    {
      "cell_type": "code",
      "metadata": {
        "id": "z6LkI2bzkp1j",
        "colab_type": "code",
        "colab": {}
      },
      "source": [
        "dt_x_train = x_train.loc[:,crossing_gk_list]\n",
        "dt_x_test = x_test.loc[:,crossing_gk_list]"
      ],
      "execution_count": 0,
      "outputs": []
    },
    {
      "cell_type": "code",
      "metadata": {
        "id": "xFOMxiz605L7",
        "colab_type": "code",
        "outputId": "d2eeed60-6d9f-4036-e8e2-5b82cbc252c2",
        "colab": {
          "base_uri": "https://localhost:8080/",
          "height": 221
        }
      },
      "source": [
        "from sklearn import tree\n",
        "dt_model = tree.DecisionTreeClassifier(criterion = 'entropy',max_depth=12)\n",
        "dt_model.fit(dt_x_train, y_train)\n",
        "dt_predicted = dt_model.predict(dt_x_test)\n",
        "print(\"Accuracy\")\n",
        "print(metrics.accuracy_score(y_test, dt_predicted))\n",
        "print(\"Decision Tree Classification Report:\")\n",
        "print(metrics.classification_report(y_test, dt_predicted))"
      ],
      "execution_count": 17,
      "outputs": [
        {
          "output_type": "stream",
          "text": [
            "Accuracy\n",
            "0.9062239279159019\n",
            "Decision Tree Classification Report:\n",
            "              precision    recall  f1-score   support\n",
            "\n",
            "           0       0.92      0.92      0.92      3381\n",
            "           1       0.89      0.89      0.89      2612\n",
            "\n",
            "    accuracy                           0.91      5993\n",
            "   macro avg       0.90      0.90      0.90      5993\n",
            "weighted avg       0.91      0.91      0.91      5993\n",
            "\n"
          ],
          "name": "stdout"
        }
      ]
    },
    {
      "cell_type": "code",
      "metadata": {
        "id": "pIDH0QwX_QMl",
        "colab_type": "code",
        "outputId": "43146b2d-4eb7-42f4-fad0-a57fdde5a681",
        "colab": {
          "base_uri": "https://localhost:8080/",
          "height": 159
        }
      },
      "source": [
        "print(\"Decision Tree Confusion Matrix\")\n",
        "pd.crosstab(y_test, dt_predicted, rownames=[\"Actual\"], colnames=[\"Predicted\"])"
      ],
      "execution_count": 18,
      "outputs": [
        {
          "output_type": "stream",
          "text": [
            "Decision Tree Confusion Matrix\n"
          ],
          "name": "stdout"
        },
        {
          "output_type": "execute_result",
          "data": {
            "text/html": [
              "<div>\n",
              "<style scoped>\n",
              "    .dataframe tbody tr th:only-of-type {\n",
              "        vertical-align: middle;\n",
              "    }\n",
              "\n",
              "    .dataframe tbody tr th {\n",
              "        vertical-align: top;\n",
              "    }\n",
              "\n",
              "    .dataframe thead th {\n",
              "        text-align: right;\n",
              "    }\n",
              "</style>\n",
              "<table border=\"1\" class=\"dataframe\">\n",
              "  <thead>\n",
              "    <tr style=\"text-align: right;\">\n",
              "      <th>Predicted</th>\n",
              "      <th>0</th>\n",
              "      <th>1</th>\n",
              "    </tr>\n",
              "    <tr>\n",
              "      <th>Actual</th>\n",
              "      <th></th>\n",
              "      <th></th>\n",
              "    </tr>\n",
              "  </thead>\n",
              "  <tbody>\n",
              "    <tr>\n",
              "      <th>0</th>\n",
              "      <td>3095</td>\n",
              "      <td>286</td>\n",
              "    </tr>\n",
              "    <tr>\n",
              "      <th>1</th>\n",
              "      <td>276</td>\n",
              "      <td>2336</td>\n",
              "    </tr>\n",
              "  </tbody>\n",
              "</table>\n",
              "</div>"
            ],
            "text/plain": [
              "Predicted     0     1\n",
              "Actual               \n",
              "0          3095   286\n",
              "1           276  2336"
            ]
          },
          "metadata": {
            "tags": []
          },
          "execution_count": 18
        }
      ]
    },
    {
      "cell_type": "code",
      "metadata": {
        "id": "ZL-YT4QGk8Ol",
        "colab_type": "code",
        "colab": {}
      },
      "source": [
        "df_dt = pd.DataFrame()\n",
        "df_dt['groundtruth'] = y_test\n",
        "df_dt['predicted'] = dt_predicted\n",
        "df_dt['state'] = df_dt.apply(lambda x: confusion_classifier(x['groundtruth'], x['predicted']), axis=1)"
      ],
      "execution_count": 0,
      "outputs": []
    },
    {
      "cell_type": "code",
      "metadata": {
        "id": "PR03HuQilDrz",
        "colab_type": "code",
        "outputId": "ff6097cc-9a19-4eba-d9fa-41b0cdf073a0",
        "colab": {
          "base_uri": "https://localhost:8080/",
          "height": 296
        }
      },
      "source": [
        "import matplotlib\n",
        "import matplotlib.pyplot as plt3\n",
        "\n",
        "title = plt3.title('Below/Above Average Distribution Decision Tree')\n",
        "plt3.setp(title, color='w')\n",
        "#matplotlib.rc('axes',edgecolor='w')\n",
        "plt3.tick_params(axis='x', colors='white')\n",
        "plt3.tick_params(axis='y', colors='white')\n",
        "#plt.ylabel.label.set_color(\"red\")\n",
        "label_x = plt3.xlabel(\"Non GK attributes\")\n",
        "label_x.set_color(\"white\")\n",
        "\n",
        "label_y = plt3.ylabel(\"GK attributes\")\n",
        "label_y.set_color(\"white\")\n",
        "sns.scatterplot(x = x_test['not_gk_mean'],y = x_test['gk_mean'], hue = df_dt['state'])\n",
        "#plt2.scatter(x_test['not_gk_mean'],x_test['gk_mean'], c = df_nb['state'], alpha = 0.5, edgecolor= 'w')\n",
        "\n",
        "plt3.legend()\n",
        "plt3.show()"
      ],
      "execution_count": 20,
      "outputs": [
        {
          "output_type": "display_data",
          "data": {
            "image/png": "[encoded data removed]",
            "text/plain": [
              "<Figure size 432x288 with 1 Axes>"
            ]
          },
          "metadata": {
            "tags": []
          }
        }
      ]
    },
    {
      "cell_type": "markdown",
      "metadata": {
        "id": "krggfcrtEaVk",
        "colab_type": "text"
      },
      "source": [
        "## Logistic Regression\n",
        "Logistic Regression 感覺上基本上怎樣都會猜對<br>\n",
        "用愈複雜的分類方法，開始愈來愈厲害，\n",
        "用邏輯是回歸就有0.97了"
      ]
    },
    {
      "cell_type": "code",
      "metadata": {
        "id": "tjbc7OqFmauH",
        "colab_type": "code",
        "colab": {}
      },
      "source": [
        "lr_x_train = x_train.loc[:,crossing_gk_list]\n",
        "lr_x_test = x_test.loc[:,crossing_gk_list]"
      ],
      "execution_count": 0,
      "outputs": []
    },
    {
      "cell_type": "code",
      "metadata": {
        "id": "-gNkYOLN_qBO",
        "colab_type": "code",
        "outputId": "a22b8522-cb7e-4b48-95ed-a958cad1b318",
        "colab": {
          "base_uri": "https://localhost:8080/",
          "height": 221
        }
      },
      "source": [
        "from sklearn.linear_model import LogisticRegression as LR\n",
        "lr_model = LR(solver = 'liblinear')\n",
        "lr_model.fit(lr_x_train, y_train)\n",
        "lr_predicted = lr_model.predict(lr_x_test)\n",
        "print(\"Accuracy\")\n",
        "print(metrics.accuracy_score(y_test, lr_predicted))\n",
        "print(\"Logistic Regression Classification Report:\")\n",
        "print(metrics.classification_report(y_test, lr_predicted))"
      ],
      "execution_count": 22,
      "outputs": [
        {
          "output_type": "stream",
          "text": [
            "Accuracy\n",
            "0.9684632070749207\n",
            "Logistic Regression Classification Report:\n",
            "              precision    recall  f1-score   support\n",
            "\n",
            "           0       0.97      0.98      0.97      3381\n",
            "           1       0.97      0.96      0.96      2612\n",
            "\n",
            "    accuracy                           0.97      5993\n",
            "   macro avg       0.97      0.97      0.97      5993\n",
            "weighted avg       0.97      0.97      0.97      5993\n",
            "\n"
          ],
          "name": "stdout"
        }
      ]
    },
    {
      "cell_type": "code",
      "metadata": {
        "id": "6r2lpxuOEVBq",
        "colab_type": "code",
        "outputId": "65489db4-251f-4121-db97-6abf58a5df2f",
        "colab": {
          "base_uri": "https://localhost:8080/",
          "height": 159
        }
      },
      "source": [
        "print(\"Logistic Regression Confusion Matrix\")\n",
        "pd.crosstab(y_test, lr_predicted, rownames=[\"Actual\"], colnames=[\"Predicted\"])"
      ],
      "execution_count": 23,
      "outputs": [
        {
          "output_type": "stream",
          "text": [
            "Logistic Regression Confusion Matrix\n"
          ],
          "name": "stdout"
        },
        {
          "output_type": "execute_result",
          "data": {
            "text/html": [
              "<div>\n",
              "<style scoped>\n",
              "    .dataframe tbody tr th:only-of-type {\n",
              "        vertical-align: middle;\n",
              "    }\n",
              "\n",
              "    .dataframe tbody tr th {\n",
              "        vertical-align: top;\n",
              "    }\n",
              "\n",
              "    .dataframe thead th {\n",
              "        text-align: right;\n",
              "    }\n",
              "</style>\n",
              "<table border=\"1\" class=\"dataframe\">\n",
              "  <thead>\n",
              "    <tr style=\"text-align: right;\">\n",
              "      <th>Predicted</th>\n",
              "      <th>0</th>\n",
              "      <th>1</th>\n",
              "    </tr>\n",
              "    <tr>\n",
              "      <th>Actual</th>\n",
              "      <th></th>\n",
              "      <th></th>\n",
              "    </tr>\n",
              "  </thead>\n",
              "  <tbody>\n",
              "    <tr>\n",
              "      <th>0</th>\n",
              "      <td>3307</td>\n",
              "      <td>74</td>\n",
              "    </tr>\n",
              "    <tr>\n",
              "      <th>1</th>\n",
              "      <td>115</td>\n",
              "      <td>2497</td>\n",
              "    </tr>\n",
              "  </tbody>\n",
              "</table>\n",
              "</div>"
            ],
            "text/plain": [
              "Predicted     0     1\n",
              "Actual               \n",
              "0          3307    74\n",
              "1           115  2497"
            ]
          },
          "metadata": {
            "tags": []
          },
          "execution_count": 23
        }
      ]
    },
    {
      "cell_type": "code",
      "metadata": {
        "id": "1oLH2M0zmxkp",
        "colab_type": "code",
        "colab": {}
      },
      "source": [
        "df_lr = pd.DataFrame()\n",
        "df_lr['groundtruth'] = y_test\n",
        "df_lr['predicted'] = lr_predicted\n",
        "df_lr['state'] = df_lr.apply(lambda x: confusion_classifier(x['groundtruth'], x['predicted']), axis=1)"
      ],
      "execution_count": 0,
      "outputs": []
    },
    {
      "cell_type": "code",
      "metadata": {
        "id": "NKN00xRcm2uP",
        "colab_type": "code",
        "outputId": "ee74c258-4e84-40b9-be61-f300b7fd1064",
        "colab": {
          "base_uri": "https://localhost:8080/",
          "height": 296
        }
      },
      "source": [
        "import matplotlib\n",
        "import matplotlib.pyplot as plt4\n",
        "\n",
        "title = plt3.title('Below/Above Average Distribution Logistic Regression')\n",
        "plt4.setp(title, color='w')\n",
        "#matplotlib.rc('axes',edgecolor='w')\n",
        "plt4.tick_params(axis='x', colors='white')\n",
        "plt4.tick_params(axis='y', colors='white')\n",
        "#plt.ylabel.label.set_color(\"red\")\n",
        "label_x = plt4.xlabel(\"Non GK attributes\")\n",
        "label_x.set_color(\"white\")\n",
        "\n",
        "label_y = plt4.ylabel(\"GK attributes\")\n",
        "label_y.set_color(\"white\")\n",
        "sns.scatterplot(x = x_test['not_gk_mean'],y = x_test['gk_mean'], hue = df_lr['state'])\n",
        "#plt2.scatter(x_test['not_gk_mean'],x_test['gk_mean'], c = df_nb['state'], alpha = 0.5, edgecolor= 'w')\n",
        "\n",
        "plt4.legend()\n",
        "plt4.show()"
      ],
      "execution_count": 25,
      "outputs": [
        {
          "output_type": "display_data",
          "data": {
            "image/png": "[encoded data removed]",
            "text/plain": [
              "<Figure size 432x288 with 1 Axes>"
            ]
          },
          "metadata": {
            "tags": []
          }
        }
      ]
    },
    {
      "cell_type": "markdown",
      "metadata": {
        "id": "XFxFLrIIGLOJ",
        "colab_type": "text"
      },
      "source": [
        "## SVM\n",
        "來到最厲害的SVM，使用LINEAR kernel\n",
        "這個svm沒有特別作甚麼東西，就有1.0的準確率<br>\n",
        "保留前面的scaling，是因為有做scaling反而不如沒做的，有做scaling的有32個錯誤，沒做卻只有8個。<br>\n",
        "當然這個這麼厲害可能只是因為這次train_test_split剛好分到這樣，但是無論如何svm真的很神。\n",
        "<br>\n",
        "另外還有試試rbf，但是沒有linear厲害。"
      ]
    },
    {
      "cell_type": "code",
      "metadata": {
        "id": "YTLuiAPcn3n4",
        "colab_type": "code",
        "colab": {}
      },
      "source": [
        "svm_x_train = x_train.loc[:,crossing_gk_list]\n",
        "svm_x_test = x_test.loc[:,crossing_gk_list]"
      ],
      "execution_count": 0,
      "outputs": []
    },
    {
      "cell_type": "code",
      "metadata": {
        "id": "dyC8J6rCF-81",
        "colab_type": "code",
        "colab": {}
      },
      "source": [
        "scaler = preprocessing.StandardScaler()\n",
        "scaled_x_train = scaler.fit_transform(svm_x_train)\n",
        "scaled_x_test = scaler.fit_transform(svm_x_test)"
      ],
      "execution_count": 0,
      "outputs": []
    },
    {
      "cell_type": "code",
      "metadata": {
        "id": "3QRRiZCAIwEL",
        "colab_type": "code",
        "outputId": "1c6168cf-f265-4100-f4f0-c93aca65336e",
        "colab": {
          "base_uri": "https://localhost:8080/",
          "height": 221
        }
      },
      "source": [
        "from sklearn.svm import SVC\n",
        "svm_model = SVC(kernel = 'linear')\n",
        "svm_model.fit(svm_x_train, y_train)\n",
        "svm_predicted = svm_model.predict(svm_x_test)\n",
        "print(\"Accuracy\")\n",
        "print(metrics.accuracy_score(y_test, svm_predicted))\n",
        "print(\"SVM Classification Report:\")\n",
        "print(metrics.classification_report(y_test, svm_predicted))"
      ],
      "execution_count": 28,
      "outputs": [
        {
          "output_type": "stream",
          "text": [
            "Accuracy\n",
            "0.9989988319706324\n",
            "SVM Classification Report:\n",
            "              precision    recall  f1-score   support\n",
            "\n",
            "           0       1.00      1.00      1.00      3381\n",
            "           1       1.00      1.00      1.00      2612\n",
            "\n",
            "    accuracy                           1.00      5993\n",
            "   macro avg       1.00      1.00      1.00      5993\n",
            "weighted avg       1.00      1.00      1.00      5993\n",
            "\n"
          ],
          "name": "stdout"
        }
      ]
    },
    {
      "cell_type": "code",
      "metadata": {
        "id": "hNErnBmuJCz9",
        "colab_type": "code",
        "outputId": "8fcfabbc-b9a1-4ef8-b044-50f778656224",
        "colab": {
          "base_uri": "https://localhost:8080/",
          "height": 159
        }
      },
      "source": [
        "print(\"SVM Confusion Matrix\")\n",
        "pd.crosstab(y_test, svm_predicted, rownames=[\"Actual\"], colnames=[\"Predicted\"])"
      ],
      "execution_count": 29,
      "outputs": [
        {
          "output_type": "stream",
          "text": [
            "SVM Confusion Matrix\n"
          ],
          "name": "stdout"
        },
        {
          "output_type": "execute_result",
          "data": {
            "text/html": [
              "<div>\n",
              "<style scoped>\n",
              "    .dataframe tbody tr th:only-of-type {\n",
              "        vertical-align: middle;\n",
              "    }\n",
              "\n",
              "    .dataframe tbody tr th {\n",
              "        vertical-align: top;\n",
              "    }\n",
              "\n",
              "    .dataframe thead th {\n",
              "        text-align: right;\n",
              "    }\n",
              "</style>\n",
              "<table border=\"1\" class=\"dataframe\">\n",
              "  <thead>\n",
              "    <tr style=\"text-align: right;\">\n",
              "      <th>Predicted</th>\n",
              "      <th>0</th>\n",
              "      <th>1</th>\n",
              "    </tr>\n",
              "    <tr>\n",
              "      <th>Actual</th>\n",
              "      <th></th>\n",
              "      <th></th>\n",
              "    </tr>\n",
              "  </thead>\n",
              "  <tbody>\n",
              "    <tr>\n",
              "      <th>0</th>\n",
              "      <td>3376</td>\n",
              "      <td>5</td>\n",
              "    </tr>\n",
              "    <tr>\n",
              "      <th>1</th>\n",
              "      <td>1</td>\n",
              "      <td>2611</td>\n",
              "    </tr>\n",
              "  </tbody>\n",
              "</table>\n",
              "</div>"
            ],
            "text/plain": [
              "Predicted     0     1\n",
              "Actual               \n",
              "0          3376     5\n",
              "1             1  2611"
            ]
          },
          "metadata": {
            "tags": []
          },
          "execution_count": 29
        }
      ]
    },
    {
      "cell_type": "code",
      "metadata": {
        "id": "GnO2vE_9oFMS",
        "colab_type": "code",
        "colab": {}
      },
      "source": [
        "df_svm = pd.DataFrame()\n",
        "df_svm['groundtruth'] = y_test\n",
        "df_svm['predicted'] = svm_predicted\n",
        "df_svm['state'] = df_lr.apply(lambda x: confusion_classifier(x['groundtruth'], x['predicted']), axis=1)"
      ],
      "execution_count": 0,
      "outputs": []
    },
    {
      "cell_type": "code",
      "metadata": {
        "id": "rtTwOXfNoO_f",
        "colab_type": "code",
        "outputId": "978a1032-470b-494c-e95d-a166860a41b5",
        "colab": {
          "base_uri": "https://localhost:8080/",
          "height": 296
        }
      },
      "source": [
        "import matplotlib\n",
        "import matplotlib.pyplot as plt5\n",
        "\n",
        "title = plt3.title('Below/Above Average Distribution SVM')\n",
        "plt5.setp(title, color='w')\n",
        "#matplotlib.rc('axes',edgecolor='w')\n",
        "plt5.tick_params(axis='x', colors='white')\n",
        "plt5.tick_params(axis='y', colors='white')\n",
        "#plt.ylabel.label.set_color(\"red\")\n",
        "label_x = plt5.xlabel(\"Non GK attributes\")\n",
        "label_x.set_color(\"white\")\n",
        "\n",
        "label_y = plt5.ylabel(\"GK attributes\")\n",
        "label_y.set_color(\"white\")\n",
        "sns.scatterplot(x = x_test['not_gk_mean'],y = x_test['gk_mean'], hue = df_svm['state'])\n",
        "#plt2.scatter(x_test['not_gk_mean'],x_test['gk_mean'], c = df_nb['state'], alpha = 0.5, edgecolor= 'w')\n",
        "\n",
        "plt5.legend()\n",
        "plt5.show()"
      ],
      "execution_count": 31,
      "outputs": [
        {
          "output_type": "display_data",
          "data": {
            "image/png": "[encoded data removed]",
            "text/plain": [
              "<Figure size 432x288 with 1 Axes>"
            ]
          },
          "metadata": {
            "tags": []
          }
        }
      ]
    },
    {
      "cell_type": "markdown",
      "metadata": {
        "id": "pADZAITNMc08",
        "colab_type": "text"
      },
      "source": [
        "## KNN\n",
        "我想說都做梅西跟內馬爾，就順便把c羅一起做一做吧<br>\n",
        "身為一個資深球迷，很興奮來看看fifa19做出來的nearest neighbor跟心中一不一樣\n"
      ]
    },
    {
      "cell_type": "markdown",
      "metadata": {
        "id": "ornJ8R1x_LC2",
        "colab_type": "text"
      },
      "source": [
        "有點懶得先把球員列出來，先顯示陣列，等等在印出名字"
      ]
    },
    {
      "cell_type": "code",
      "metadata": {
        "id": "iCUIlpXisB9q",
        "colab_type": "code",
        "colab": {}
      },
      "source": [
        "knn_x = x.loc[:,crossing_gk_list]"
      ],
      "execution_count": 0,
      "outputs": []
    },
    {
      "cell_type": "code",
      "metadata": {
        "id": "IXSKNU13JQnc",
        "colab_type": "code",
        "outputId": "62474bcb-c86b-4f81-e843-2119db222088",
        "colab": {
          "base_uri": "https://localhost:8080/",
          "height": 34
        }
      },
      "source": [
        "from sklearn.neighbors import NearestNeighbors\n",
        "knn_model = NearestNeighbors(n_neighbors=6)\n",
        "knn_model.fit(knn_x)\n",
        "m_c_n_x = knn_x.iloc[0:3]\n",
        "neighbors = knn_model.kneighbors(m_c_n_x, return_distance=False) \n",
        "neighbors = neighbors.tolist()\n",
        "print(neighbors)\n"
      ],
      "execution_count": 33,
      "outputs": [
        {
          "output_type": "stream",
          "text": [
            "[[0, 2, 15, 5, 154, 23], [1, 23, 10, 25, 33, 122], [2, 5, 0, 15, 157, 154]]\n"
          ],
          "name": "stdout"
        }
      ]
    },
    {
      "cell_type": "markdown",
      "metadata": {
        "id": "KD1arKCuAGD5",
        "colab_type": "text"
      },
      "source": [
        "第一個球員，就是那個被分析的球員，因為最近"
      ]
    },
    {
      "cell_type": "code",
      "metadata": {
        "id": "w1PXakpsM1aO",
        "colab_type": "code",
        "outputId": "29d0a1ff-ebeb-4f9f-be76-239c78dbf584",
        "colab": {
          "base_uri": "https://localhost:8080/",
          "height": 357
        }
      },
      "source": [
        "for i in range(len(neighbors[2])):\n",
        "  player_id = neighbors[2][i]\n",
        "  print(df.iloc[player_id]['Name'])\n",
        "  \n",
        "print()\n",
        "\n",
        "for i in range(len(neighbors[0])):\n",
        "  player_id = neighbors[0][i]\n",
        "  print(df.iloc[player_id]['Name'])\n",
        "\n",
        "print()\n",
        "for i in range(len(neighbors[1])):\n",
        "  player_id = neighbors[1][i]\n",
        "  print(df.iloc[player_id]['Name'])"
      ],
      "execution_count": 34,
      "outputs": [
        {
          "output_type": "stream",
          "text": [
            "Neymar Jr\n",
            "E. Hazard\n",
            "L. Messi\n",
            "P. Dybala\n",
            "Ronaldo Cabrais\n",
            "A. Robben\n",
            "\n",
            "L. Messi\n",
            "Neymar Jr\n",
            "P. Dybala\n",
            "E. Hazard\n",
            "A. Robben\n",
            "S. Agüero\n",
            "\n",
            "Cristiano Ronaldo\n",
            "S. Agüero\n",
            "R. Lewandowski\n",
            "K. Mbappé\n",
            "P. Aubameyang\n",
            "F. Thauvin\n"
          ],
          "name": "stdout"
        }
      ]
    },
    {
      "cell_type": "markdown",
      "metadata": {
        "id": "x8Y1u7zi0Hsw",
        "colab_type": "text"
      },
      "source": [
        "## KNN結論\n",
        "身為一個有再踢球跟看球的人來說，從直覺上，這個結論是可以接受的，雖然有些還是怪怪<br>\n",
        "怎麼說呢?<BR>\n",
        "可以看見的是三個球員的香球員基本上都是前鋒型球員。所以基本上可以看出來，大家的數據再資料集裡面，應該某些屬性是真的滿類似的(eg: 射門、跑動速度、控球...等。)。而且相似的球員都是球星等集的球員。<br>\n",
        "比較可惜的是，這些球員，雖然都是前鋒，但是由於資料集的限制，我們並看不出來球風上的差別。舉例來說，就我看來，messi的球風根neymar事天差地遠的，但是在這個資料集裡面做knn，卻發現相似度很高。因為他們都很矮，在頭頂那邊，不如C羅好，造成他們相似度高。"
      ]
    },
    {
      "cell_type": "markdown",
      "metadata": {
        "id": "1S4YTCuT9_xv",
        "colab_type": "text"
      },
      "source": [
        "## NN and Linear Regression(加分)\n",
        "因為平常也有在玩足球遊戲，而球員薪水常常是讓人很頭痛很煩的事情。球員的薪資是不是給高了這件事情，是相當在意的，或者自己喜歡的球員是不是給低了。<br>\n",
        "因此，我針對近十年討論度最高的(就是連沒踢球的人都知道的球星)球員，評斷一下是不是給高或給低了。<br>\n",
        "所以說，我就用了類神經網路跟線性回歸回歸看看，還有用最簡單的線性回歸來做薪水猜測。"
      ]
    },
    {
      "cell_type": "code",
      "metadata": {
        "id": "3EJxVxKtRgpq",
        "colab_type": "code",
        "colab": {}
      },
      "source": [
        "#nn_crossing_gk_list = ['Age','Skill Moves','Crossing','Finishing','HeadingAccuracy','ShortPassing','Volleys','Dribbling','Curve','FKAccuracy','LongPassing','BallControl','Acceleration','SprintSpeed','Agility','Reactions','Balance','ShotPower','Jumping','Stamina','Strength','LongShots','Aggression','Interceptions','Positioning','Vision','Penalties','Composure','Marking','StandingTackle','SlidingTackle','GKDiving','GKHandling','GKKicking','GKPositioning','GKReflexes'] \n",
        "nn_train = df.iloc[3:18159]\n",
        "nn_mcn = df.iloc[0:3]\n",
        "nn_x_train = nn_train[crossing_gk_list]\n",
        "nn_y_train = nn_train['Wage']"
      ],
      "execution_count": 0,
      "outputs": []
    },
    {
      "cell_type": "markdown",
      "metadata": {
        "id": "Z0rsBIIKB9SJ",
        "colab_type": "text"
      },
      "source": [
        "## NN這邊發生甚麼事\n",
        "想要用一個類神經網路，來回歸球員薪水這個事情。這個神經網路的設計，沒經過甚麼很複雜的思考，只是覺得就這樣設吧。跑出來的結果，感覺有點不好就是了啦。\n"
      ]
    },
    {
      "cell_type": "code",
      "metadata": {
        "id": "U5q_KRxY4XfA",
        "colab_type": "code",
        "outputId": "ee3204ec-29d6-47e2-f007-d51f33e35cb4",
        "colab": {
          "base_uri": "https://localhost:8080/",
          "height": 258
        }
      },
      "source": [
        "from keras.models import Sequential\n",
        "from keras.layers import Dense,Dropout\n",
        "#create model\n",
        "nn_model = Sequential()\n",
        "\n",
        "#get number of columns in training data\n",
        "n_cols = nn_x_train.shape[1]\n",
        "\n",
        "#add model layers\n",
        "nn_model.add(Dense(32, activation='relu', input_shape=(n_cols,)))\n",
        "nn_model.add(Dense(128, activation='relu'))\n",
        "nn_model.add(Dense(256, activation='relu'))\n",
        "nn_model.add(Dense(128, activation='relu'))\n",
        "nn_model.add(Dense(256, activation='relu'))\n",
        "nn_model.add(Dense(128, activation='relu'))\n",
        "nn_model.add(Dense(256, activation='relu'))\n",
        "nn_model.add(Dense(256, activation='relu'))\n",
        "nn_model.add(Dense(128, activation='relu'))\n",
        "nn_model.add(Dropout(0.1))\n",
        "nn_model.add(Dense(1))"
      ],
      "execution_count": 36,
      "outputs": [
        {
          "output_type": "stream",
          "text": [
            "Using TensorFlow backend.\n",
            "WARNING: Logging before flag parsing goes to stderr.\n",
            "W0615 08:28:02.878020 140347961624448 deprecation_wrapper.py:119] From /usr/local/lib/python3.6/dist-packages/keras/backend/tensorflow_backend.py:74: The name tf.get_default_graph is deprecated. Please use tf.compat.v1.get_default_graph instead.\n",
            "\n",
            "W0615 08:28:02.912305 140347961624448 deprecation_wrapper.py:119] From /usr/local/lib/python3.6/dist-packages/keras/backend/tensorflow_backend.py:517: The name tf.placeholder is deprecated. Please use tf.compat.v1.placeholder instead.\n",
            "\n",
            "W0615 08:28:02.918926 140347961624448 deprecation_wrapper.py:119] From /usr/local/lib/python3.6/dist-packages/keras/backend/tensorflow_backend.py:4138: The name tf.random_uniform is deprecated. Please use tf.random.uniform instead.\n",
            "\n",
            "W0615 08:28:03.030980 140347961624448 deprecation_wrapper.py:119] From /usr/local/lib/python3.6/dist-packages/keras/backend/tensorflow_backend.py:133: The name tf.placeholder_with_default is deprecated. Please use tf.compat.v1.placeholder_with_default instead.\n",
            "\n",
            "W0615 08:28:03.041809 140347961624448 deprecation.py:506] From /usr/local/lib/python3.6/dist-packages/keras/backend/tensorflow_backend.py:3445: calling dropout (from tensorflow.python.ops.nn_ops) with keep_prob is deprecated and will be removed in a future version.\n",
            "Instructions for updating:\n",
            "Please use `rate` instead of `keep_prob`. Rate should be set to `rate = 1 - keep_prob`.\n"
          ],
          "name": "stderr"
        }
      ]
    },
    {
      "cell_type": "code",
      "metadata": {
        "id": "vjOynZvL5GS6",
        "colab_type": "code",
        "outputId": "095af8c3-6f27-401d-8283-d5d991ed8192",
        "colab": {
          "base_uri": "https://localhost:8080/",
          "height": 71
        }
      },
      "source": [
        "nn_model.compile(optimizer='rmsprop', loss='mean_squared_error')"
      ],
      "execution_count": 37,
      "outputs": [
        {
          "output_type": "stream",
          "text": [
            "W0615 08:28:03.079672 140347961624448 deprecation_wrapper.py:119] From /usr/local/lib/python3.6/dist-packages/keras/optimizers.py:790: The name tf.train.Optimizer is deprecated. Please use tf.compat.v1.train.Optimizer instead.\n",
            "\n"
          ],
          "name": "stderr"
        }
      ]
    },
    {
      "cell_type": "markdown",
      "metadata": {
        "id": "o_lP180oGMmv",
        "colab_type": "text"
      },
      "source": [
        "early_stopping就是一個不是用epoch把大家停下來的機制，在這裡原本以為會很適合，就用了，誰知道用了好像沒什麼顯著的差別。"
      ]
    },
    {
      "cell_type": "code",
      "metadata": {
        "id": "ptFl53st5RiD",
        "colab_type": "code",
        "outputId": "0b514932-f526-441f-ee25-d233a5086580",
        "colab": {
          "base_uri": "https://localhost:8080/",
          "height": 428
        }
      },
      "source": [
        "from keras.callbacks import EarlyStopping\n",
        "#set early stopping monitor so the model stops training when it won't improve anymore\n",
        "#early_stopping_monitor = EarlyStopping(patience=5)\n",
        "#train model\n",
        "#callbacks=[early_stopping_monitor]\n",
        "history = nn_model.fit(nn_x_train, nn_y_train, validation_split=0.1, epochs=10,batch_size =20)"
      ],
      "execution_count": 38,
      "outputs": [
        {
          "output_type": "stream",
          "text": [
            "W0615 08:28:03.378405 140347961624448 deprecation_wrapper.py:119] From /usr/local/lib/python3.6/dist-packages/keras/backend/tensorflow_backend.py:986: The name tf.assign_add is deprecated. Please use tf.compat.v1.assign_add instead.\n",
            "\n"
          ],
          "name": "stderr"
        },
        {
          "output_type": "stream",
          "text": [
            "Train on 16340 samples, validate on 1816 samples\n",
            "Epoch 1/10\n",
            "16340/16340 [==============================] - 8s 504us/step - loss: 459310493.2913 - val_loss: 1908872.2208\n",
            "Epoch 2/10\n",
            "16340/16340 [==============================] - 4s 272us/step - loss: 424475791.8984 - val_loss: 5369007.0639\n",
            "Epoch 3/10\n",
            "16340/16340 [==============================] - 4s 272us/step - loss: 400826580.0747 - val_loss: 5643650.3018\n",
            "Epoch 4/10\n",
            "16340/16340 [==============================] - 4s 273us/step - loss: 390965243.5520 - val_loss: 9589568.1278\n",
            "Epoch 5/10\n",
            "16340/16340 [==============================] - 4s 270us/step - loss: 388145461.9994 - val_loss: 11023059.1327\n",
            "Epoch 6/10\n",
            "16340/16340 [==============================] - 5s 277us/step - loss: 381103693.1824 - val_loss: 6565627.3320\n",
            "Epoch 7/10\n",
            "16340/16340 [==============================] - 4s 269us/step - loss: 375476116.0006 - val_loss: 5811033.7294\n",
            "Epoch 8/10\n",
            "16340/16340 [==============================] - 4s 263us/step - loss: 371667929.9376 - val_loss: 2986134.5688\n",
            "Epoch 9/10\n",
            "16340/16340 [==============================] - 4s 262us/step - loss: 369398145.3066 - val_loss: 11217482.9284\n",
            "Epoch 10/10\n",
            "16340/16340 [==============================] - 4s 261us/step - loss: 365630032.0710 - val_loss: 4076375.9072\n"
          ],
          "name": "stdout"
        }
      ]
    },
    {
      "cell_type": "markdown",
      "metadata": {
        "id": "ucAOf4rS2luT",
        "colab_type": "text"
      },
      "source": [
        "這張表看起來好像不能代表甚麼。"
      ]
    },
    {
      "cell_type": "code",
      "metadata": {
        "id": "D-sOSWHnl6ho",
        "colab_type": "code",
        "outputId": "043e9963-2333-4006-c93f-1e3e22ca433b",
        "colab": {
          "base_uri": "https://localhost:8080/",
          "height": 295
        }
      },
      "source": [
        "import matplotlib.pyplot as plt\n",
        "\n",
        "# Plot training & validation loss values\n",
        "plt.plot(history.history['loss'])\n",
        "plt.plot(history.history['val_loss'])\n",
        "plt.title('Model loss')\n",
        "plt.ylabel('Loss')\n",
        "plt.xlabel('Epoch')\n",
        "plt.legend(['Train', 'Test'], loc='upper left')\n",
        "plt.show()"
      ],
      "execution_count": 39,
      "outputs": [
        {
          "output_type": "display_data",
          "data": {
            "image/png": "[encoded data removed]",
            "text/plain": [
              "<Figure size 432x288 with 1 Axes>"
            ]
          },
          "metadata": {
            "tags": []
          }
        }
      ]
    },
    {
      "cell_type": "markdown",
      "metadata": {
        "id": "vBm-ZXEGHk_X",
        "colab_type": "text"
      },
      "source": [
        "0: Messi\n",
        "1: C羅\n",
        "2: Neymar\n",
        "\n",
        "看的出來，Neymar的薪水被嚴重低估。基本上，我覺得ground truth對於Neymar就不是很公平了。但是還是難掩飾這是一個比較不好的類神經網路範例。\n"
      ]
    },
    {
      "cell_type": "code",
      "metadata": {
        "id": "-T_ICuur5nUy",
        "colab_type": "code",
        "outputId": "5049e801-35ce-4df7-f6f2-a5300cfd1766",
        "colab": {
          "base_uri": "https://localhost:8080/",
          "height": 85
        }
      },
      "source": [
        "print(\"NN\")\n",
        "nn_model.predict(df.iloc[0:3][crossing_gk_list])\n"
      ],
      "execution_count": 40,
      "outputs": [
        {
          "output_type": "stream",
          "text": [
            "NN\n"
          ],
          "name": "stdout"
        },
        {
          "output_type": "execute_result",
          "data": {
            "text/plain": [
              "array([[53344.52],\n",
              "       [49621.95],\n",
              "       [53294.3 ]], dtype=float32)"
            ]
          },
          "metadata": {
            "tags": []
          },
          "execution_count": 40
        }
      ]
    },
    {
      "cell_type": "code",
      "metadata": {
        "id": "W1_8aNtM56jS",
        "colab_type": "code",
        "outputId": "5d1709e9-fc4d-427e-e102-c23d5ae39322",
        "colab": {
          "base_uri": "https://localhost:8080/",
          "height": 102
        }
      },
      "source": [
        "print(\"ground truth\")\n",
        "df.iloc[0:3][\"Wage\"]"
      ],
      "execution_count": 41,
      "outputs": [
        {
          "output_type": "stream",
          "text": [
            "ground truth\n"
          ],
          "name": "stdout"
        },
        {
          "output_type": "execute_result",
          "data": {
            "text/plain": [
              "0    565000\n",
              "1    405000\n",
              "2    290000\n",
              "Name: Wage, dtype: int64"
            ]
          },
          "metadata": {
            "tags": []
          },
          "execution_count": 41
        }
      ]
    },
    {
      "cell_type": "markdown",
      "metadata": {
        "id": "XguyOpTXH8FJ",
        "colab_type": "text"
      },
      "source": [
        "線性回歸看起來正常多。<BR>\n",
        " 他認為梅西應該薪水最高，在來c羅，在來Neymar。三個人的球技數據，來說fifa給的薪水都有點低估了。尤其是Neymar的數據。我不知道為甚麼fifa給Neymar這麼低的薪水，有點怪。真實世界裡面Neymar的薪水比事跟另外兩位依樣高的。"
      ]
    },
    {
      "cell_type": "code",
      "metadata": {
        "id": "TNtqlD2Y6VlU",
        "colab_type": "code",
        "outputId": "bccd575d-2db3-4caf-80bd-674ef6bda529",
        "colab": {
          "base_uri": "https://localhost:8080/",
          "height": 51
        }
      },
      "source": [
        "print(\"linear regression\")\n",
        "from sklearn.linear_model import LinearRegression\n",
        "linear_model = LinearRegression().fit(nn_x_train, nn_y_train)\n",
        "linear_model.predict(df.iloc[0:3][crossing_gk_list])"
      ],
      "execution_count": 42,
      "outputs": [
        {
          "output_type": "stream",
          "text": [
            "linear regression\n"
          ],
          "name": "stdout"
        },
        {
          "output_type": "execute_result",
          "data": {
            "text/plain": [
              "array([51665.9293302 , 51639.31957489, 48239.47656302])"
            ]
          },
          "metadata": {
            "tags": []
          },
          "execution_count": 42
        }
      ]
    },
    {
      "cell_type": "code",
      "metadata": {
        "id": "M5uMn7g03dol",
        "colab_type": "code",
        "colab": {}
      },
      "source": [
        ""
      ],
      "execution_count": 0,
      "outputs": []
    }
  ]
}